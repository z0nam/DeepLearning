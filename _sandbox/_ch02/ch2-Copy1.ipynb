{
 "cells": [
  {
   "cell_type": "code",
   "execution_count": 5,
   "metadata": {
    "collapsed": true,
    "deletable": true,
    "editable": true
   },
   "outputs": [],
   "source": [
    "from urllib.parse import urljoin\n",
    "from bs4 import BeautifulSoup\n",
    "import requests"
   ]
  },
  {
   "cell_type": "code",
   "execution_count": 12,
   "metadata": {
    "collapsed": true,
    "deletable": true,
    "editable": true
   },
   "outputs": [],
   "source": [
    "def scrape_hanbit_data(user, pw, url_login, page_url):\n",
    "    session = requests.session()\n",
    "    login_info = {\"m_id\":user, \"m_passwd\":pw}\n",
    "    res = session.post(url_login, data=login_info)\n",
    "    res.raise_for_status()\n",
    "    res = session.get(page_url)\n",
    "    res.raise_for_status()\n",
    "    \n",
    "    soup = BeautifulSoup(res.text, \"html.parser\")\n",
    "    mileage = soup.select_one(\".mileage_section1 span\").get_text()\n",
    "    ecoin = soup.select_one(\".mileage_section2 span\").get_text()\n",
    "    print(\"마일리지: \" + mileage)\n",
    "    print(\"이코인: \" + ecoin)"
   ]
  },
  {
   "cell_type": "code",
   "execution_count": 13,
   "metadata": {
    "collapsed": true,
    "deletable": true,
    "editable": true
   },
   "outputs": [],
   "source": [
    "login_page = \"http://www.hanbit.co.kr/member/login_proc.php\"\n",
    "my_page = \"http://www.hanbit.co.kr/myhanbit/myhanbit.html\""
   ]
  },
  {
   "cell_type": "code",
   "execution_count": 14,
   "metadata": {
    "collapsed": false,
    "deletable": true,
    "editable": true
   },
   "outputs": [
    {
     "name": "stdout",
     "output_type": "stream",
     "text": [
      "마일리지: 2,000\n",
      "이코인: 0\n"
     ]
    }
   ],
   "source": [
    "scrape_hanbit_data('gambug', 'testtest1', login_page, my_page)"
   ]
  },
  {
   "cell_type": "code",
   "execution_count": 5,
   "metadata": {
    "collapsed": false,
    "deletable": true,
    "editable": true
   },
   "outputs": [
    {
     "name": "stdout",
     "output_type": "stream",
     "text": [
      "2017/07/14 16:05:30\n",
      "b'2017/07/14 16:05:30'\n"
     ]
    }
   ],
   "source": [
    "#GET 요청\n",
    "r = requests.get(\"http://api.aoikujira.com/time/get.php\")\n",
    "print(r.text) #text\n",
    "print(r.content) #binary"
   ]
  },
  {
   "cell_type": "code",
   "execution_count": 6,
   "metadata": {
    "collapsed": true,
    "deletable": true,
    "editable": true
   },
   "outputs": [],
   "source": [
    "r = requests.get(\"http://wikibook.co.kr/wikibook.png\")\n",
    "with open(\"wikipng.png\", \"wb\") as f:\n",
    "    f.write(r.content)"
   ]
  },
  {
   "cell_type": "code",
   "execution_count": 15,
   "metadata": {
    "collapsed": false,
    "deletable": true,
    "editable": true
   },
   "outputs": [
    {
     "data": {
      "text/plain": [
       "'/Users/j/Documents/lecture/2017su/DeepLearning/_sandbox/_ch02'"
      ]
     },
     "execution_count": 15,
     "metadata": {},
     "output_type": "execute_result"
    }
   ],
   "source": [
    "import os\n",
    "os.getcwd()"
   ]
  },
  {
   "cell_type": "code",
   "execution_count": 16,
   "metadata": {
    "collapsed": false,
    "deletable": true,
    "editable": true
   },
   "outputs": [
    {
     "name": "stdout",
     "output_type": "stream",
     "text": [
      "saved\n"
     ]
    }
   ],
   "source": [
    "from selenium import webdriver\n",
    "\n",
    "url = \"http://www.naver.com/\"\n",
    "phantom_path = \"/Users/j/Downloads/phantomjs-2.1.1-macosx/bin/phantomjs\"\n",
    "browser = webdriver.PhantomJS(phantom_path)\n",
    "browser.implicitly_wait(3)\n",
    "browser.get(url)\n",
    "browser.save_screenshot(\"naver.png\")\n",
    "print('saved')\n",
    "browser.quit()"
   ]
  },
  {
   "cell_type": "code",
   "execution_count": 16,
   "metadata": {
    "collapsed": true,
    "deletable": true,
    "editable": true
   },
   "outputs": [],
   "source": [
    "from selenium import webdriver\n",
    "phantom_path = \"C:\\\\Users\\\\sncc\\\\Downloads\\\\phantomjs-2.1.1-windows\\\\bin\\\\phantomjs.exe\"\n",
    "\n",
    "def naver_shopping_lst(user_id, pw):\n",
    "    browser = webdriver.PhantomJS(phantom_path)\n",
    "    browser.implicitly_wait(3)\n",
    "    url_login = \"https://nid.naver.com/nidlogin.login\"\n",
    "    browser.get(url_login)\n",
    "    print(\"로그인 페이지 접근\")\n",
    "    \n",
    "    id_element = browser.find_element_by_id('id') #id 요소로 element 추출\n",
    "    id_element.clear() #아이디 입력란 clear\n",
    "    id_element.send_keys(user_id)\n",
    "    pw_element = browser.find_element_by_id(\"pw\")\n",
    "    pw_element.clear()\n",
    "    pw_element.send_keys(pw)\n",
    "    \n",
    "    form = browser.find_element_by_css_selector(\"input.btn_global[type=submit]\")\n",
    "    form.submit()\n",
    "    print(\"로그인 버튼 클릭\")\n",
    "    \n",
    "    browser.get(\"http://order.pay.naver.com/home?tabMenu=SHOPPOING\")\n",
    "    \n",
    "    products = browser.find_elements_by_css_selector(\".p_info span\")\n",
    "    print(products)"
   ]
  },
  {
   "cell_type": "code",
   "execution_count": 17,
   "metadata": {
    "collapsed": false,
    "deletable": true,
    "editable": true,
    "scrolled": true
   },
   "outputs": [
    {
     "name": "stdout",
     "output_type": "stream",
     "text": [
      "로그인 페이지 접근\n",
      "로그인 버튼 클릭\n",
      "[]\n"
     ]
    }
   ],
   "source": [
    "naver_shopping_lst('gambug', '')"
   ]
  },
  {
   "cell_type": "code",
   "execution_count": 19,
   "metadata": {
    "collapsed": false,
    "deletable": true,
    "editable": true
   },
   "outputs": [
    {
     "name": "stdout",
     "output_type": "stream",
     "text": [
      "150\n"
     ]
    }
   ],
   "source": [
    "from selenium import webdriver\n",
    "\n",
    "browser = webdriver.PhantomJS(phantom_path)\n",
    "browser.implicitly_wait(2)\n",
    "browser.get(\"https://google.com\")\n",
    "r = browser.execute_script(\"return 100 + 50\")\n",
    "print(r)"
   ]
  },
  {
   "cell_type": "code",
   "execution_count": null,
   "metadata": {
    "collapsed": true,
    "deletable": true,
    "editable": true
   },
   "outputs": [],
   "source": []
  }
 ],
 "metadata": {
  "kernelspec": {
   "display_name": "Python 3",
   "language": "python",
   "name": "python3"
  },
  "language_info": {
   "codemirror_mode": {
    "name": "ipython",
    "version": 3
   },
   "file_extension": ".py",
   "mimetype": "text/x-python",
   "name": "python",
   "nbconvert_exporter": "python",
   "pygments_lexer": "ipython3",
   "version": "3.6.0"
  }
 },
 "nbformat": 4,
 "nbformat_minor": 2
}
